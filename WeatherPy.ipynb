{
 "cells": [
  {
   "cell_type": "markdown",
   "metadata": {},
   "source": [
    "# WeatherPy"
   ]
  },
  {
   "cell_type": "markdown",
   "metadata": {},
   "source": [
    "## Analysis\n",
    "1. The scatter plot between latitude and maximum temperature indicates that there is a correlation between these two factors\n",
    "2. With r-value = -0.85, there is a strong, negative relationship between latitude and max temperature for cities in the Northern Hemisphere. With r-value = 0.69, there is a positive relationship between latitude and max temperature for cities in the Southern Hemisphere. Both indicate that a city closer to the equator (latitude = 0), the max temperature increases\n",
    "3. There is no correlation between latitude and cloudiness, windspeed or humidity; all r-values are close to 0"
   ]
  },
  {
   "cell_type": "code",
   "execution_count": 1,
   "metadata": {
    "scrolled": true
   },
   "outputs": [],
   "source": [
    "# Dependencies\n",
    "import matplotlib.pyplot as plt\n",
    "import requests\n",
    "import numpy as np\n",
    "import pandas as pd\n",
    "from scipy import stats\n",
    "from scipy.stats import linregress\n",
    "\n",
    "# Import API key (Remember to change API keys in api_keys.py)\n",
    "from api_keys import weather_api_key\n",
    "\n",
    "# Import citipy\n",
    "from citipy import citipy\n",
    "\n",
    "# Import time to account for API call limit\n",
    "import time"
   ]
  },
  {
   "cell_type": "markdown",
   "metadata": {},
   "source": [
    "## Generate Cities List"
   ]
  },
  {
   "cell_type": "code",
   "execution_count": 2,
   "metadata": {},
   "outputs": [
    {
     "name": "stdout",
     "output_type": "stream",
     "text": [
      "554 unique cities have been selected.\n"
     ]
    }
   ],
   "source": [
    "# Creating empty lists for cities, contries and their latitudes and longitudes\n",
    "lat_lng_ls = []\n",
    "cities_ls = []\n",
    "countries_ls = []\n",
    "\n",
    "# Using np.random to generate random latitude and longitude pairs along the full range\n",
    "latitude = np.random.uniform(low = -90.0000, high = 90.0000, size = 1400)\n",
    "longitude = np.random.uniform(low = -180.0000, high = 180.0000, size = 1400)\n",
    "\n",
    "# Populating lat_lng list with generated latitudes and longitudes\n",
    "lat_lng_ls = zip(latitude, longitude)\n",
    "\n",
    "# Using citypy to look for nearest city with latitude and longitude\n",
    "for lat_lng in lat_lng_ls:\n",
    "    city_name = citipy.nearest_city(lat_lng[0], lat_lng[1]).city_name\n",
    "    country_name = citipy.nearest_city(lat_lng[0], lat_lng[1]).country_code\n",
    "    # for cities not already in cities, append cities_ls and countries_ls\n",
    "    if city_name not in cities_ls:\n",
    "        cities_ls.append(city_name)\n",
    "        countries_ls.append(country_name.upper())\n",
    "\n",
    "print(f'{len(cities_ls)} unique cities have been selected.')"
   ]
  },
  {
   "cell_type": "markdown",
   "metadata": {},
   "source": [
    "### Perform API Calls\n",
    "* Perform a weather check on each city using a series of successive API calls.\n",
    "* Include a print log of each city as it'sbeing processed (with the city number and city name).\n"
   ]
  },
  {
   "cell_type": "code",
   "execution_count": 3,
   "metadata": {},
   "outputs": [],
   "source": [
    "# URL information\n",
    "url = \"http://api.openweathermap.org/data/2.5/weather?\"\n",
    "units = \"metric\"\n",
    "\n",
    "# Building partial URL query\n",
    "query_url = f\"{url}appid={weather_api_key}&units={units}&q=\""
   ]
  },
  {
   "cell_type": "code",
   "execution_count": 4,
   "metadata": {
    "scrolled": true
   },
   "outputs": [
    {
     "name": "stdout",
     "output_type": "stream",
     "text": [
      "Beginning Data Retrieval\n",
      "-------------------------------\n",
      "Processing Record 1 of Set 1 | Bengkulu\n",
      "Processing Record 2 of Set 1 | Kavieng\n",
      "Processing Record 3 of Set 1 | Loandjili\n",
      "Processing Record 4 of Set 1 | Qaanaaq\n",
      "Processing Record 5 of Set 1 | Barra de Tecoanapa\n",
      "Processing Record 6 of Set 1 | Ushuaia\n",
      "Processing Record 7 of Set 1 | Luancheng\n",
      "City not found. Skipping...\n",
      "Processing Record 9 of Set 1 | Kapaa\n",
      "Processing Record 10 of Set 1 | Looc\n",
      "Processing Record 11 of Set 1 | Ust-Kuyga\n",
      "Processing Record 12 of Set 1 | Rikitea\n",
      "Processing Record 13 of Set 1 | Punta Arenas\n",
      "Processing Record 14 of Set 1 | Qujing\n",
      "Processing Record 15 of Set 1 | Tiznit Province\n",
      "Processing Record 16 of Set 1 | Poso\n",
      "Processing Record 17 of Set 1 | Hithadhoo\n",
      "Processing Record 18 of Set 1 | Atuona\n",
      "Processing Record 19 of Set 1 | Barrow\n",
      "Processing Record 20 of Set 1 | Ilulissat\n",
      "Processing Record 21 of Set 1 | Geraldton\n",
      "Processing Record 22 of Set 1 | Port Alfred\n",
      "Processing Record 23 of Set 1 | Dongying\n",
      "Processing Record 24 of Set 1 | São Félix do Xingu\n",
      "Processing Record 25 of Set 1 | Bara\n",
      "Processing Record 26 of Set 1 | Ribeira Grande\n",
      "Processing Record 27 of Set 1 | Tuy Hoa\n",
      "City not found. Skipping...\n",
      "City not found. Skipping...\n",
      "Processing Record 30 of Set 1 | Castro\n",
      "Processing Record 31 of Set 1 | Dikson\n",
      "Processing Record 32 of Set 1 | Mar del Plata\n",
      "City not found. Skipping...\n",
      "Processing Record 34 of Set 1 | Puerto Ayora\n",
      "Processing Record 35 of Set 1 | Lebu\n",
      "Processing Record 36 of Set 1 | Weligama\n",
      "Processing Record 37 of Set 1 | Lompoc\n",
      "Processing Record 38 of Set 1 | Daru\n",
      "Processing Record 39 of Set 1 | Mount Gambier\n",
      "Processing Record 40 of Set 1 | Bowen\n",
      "Processing Record 41 of Set 1 | Auki\n",
      "Processing Record 42 of Set 1 | Airai\n",
      "Processing Record 43 of Set 1 | Mataura\n",
      "Processing Record 44 of Set 1 | Abhā\n",
      "Processing Record 45 of Set 1 | Dehlorān\n",
      "Processing Record 46 of Set 1 | Toora-Khem\n",
      "Processing Record 47 of Set 1 | Port Lincoln\n",
      "Processing Record 48 of Set 1 | Chui\n",
      "Processing Record 49 of Set 1 | East London\n",
      "City not found. Skipping...\n",
      "Processing Record 51 of Set 1 | Los Llanos de Aridane\n",
      "Processing Record 52 of Set 1 | Lashio\n",
      "Processing Record 53 of Set 1 | Olafsvik\n",
      "Processing Record 54 of Set 1 | Cape Town\n",
      "Processing Record 55 of Set 1 | Busselton\n",
      "Please wait 10 seconds to allow for API call limit\n",
      "Processing Record 1 of Set 2 | Caravelas\n",
      "Processing Record 2 of Set 2 | Yellowknife\n",
      "Processing Record 3 of Set 2 | Banda Aceh\n",
      "Processing Record 4 of Set 2 | Vaini\n",
      "Processing Record 5 of Set 2 | Tasiilaq\n",
      "Processing Record 6 of Set 2 | Hualmay\n",
      "Processing Record 7 of Set 2 | San Patricio\n",
      "Processing Record 8 of Set 2 | Mitsamiouli\n",
      "Processing Record 9 of Set 2 | Coahuayana Viejo\n",
      "Processing Record 10 of Set 2 | Flinders\n",
      "City not found. Skipping...\n",
      "Processing Record 12 of Set 2 | Tuktoyaktuk\n",
      "Processing Record 13 of Set 2 | Bluff\n",
      "Processing Record 14 of Set 2 | Kloulklubed\n",
      "Processing Record 15 of Set 2 | Izumo\n",
      "Processing Record 16 of Set 2 | Carnarvon\n",
      "Processing Record 17 of Set 2 | Upernavik\n",
      "Processing Record 18 of Set 2 | Lavrentiya\n",
      "Processing Record 19 of Set 2 | Senador Guiomard\n",
      "Processing Record 20 of Set 2 | Pisco\n",
      "Processing Record 21 of Set 2 | Fairbanks\n",
      "Processing Record 22 of Set 2 | Avarua\n",
      "Processing Record 23 of Set 2 | Thompson\n",
      "City not found. Skipping...\n",
      "City not found. Skipping...\n",
      "Processing Record 26 of Set 2 | Sarlat-la-Canéda\n",
      "Processing Record 27 of Set 2 | Provideniya\n",
      "Processing Record 28 of Set 2 | Hong Kong\n",
      "Processing Record 29 of Set 2 | Hobart\n",
      "City not found. Skipping...\n",
      "Processing Record 31 of Set 2 | Norman Wells\n",
      "Processing Record 32 of Set 2 | Hermanus\n",
      "City not found. Skipping...\n",
      "Processing Record 34 of Set 2 | Gwanda\n",
      "Processing Record 35 of Set 2 | Verkhoyansk\n",
      "Processing Record 36 of Set 2 | Saint-Pierre\n",
      "Processing Record 37 of Set 2 | Longyearbyen\n",
      "Processing Record 38 of Set 2 | Katsuura\n",
      "Processing Record 39 of Set 2 | Vila Velha\n",
      "Processing Record 40 of Set 2 | Maceió\n",
      "Processing Record 41 of Set 2 | Port Hardy\n",
      "City not found. Skipping...\n",
      "Processing Record 43 of Set 2 | Bathsheba\n",
      "Processing Record 44 of Set 2 | George Town\n",
      "Processing Record 45 of Set 2 | Ishigaki\n",
      "City not found. Skipping...\n",
      "Processing Record 47 of Set 2 | Cherskiy\n",
      "Processing Record 48 of Set 2 | Mweka\n",
      "Processing Record 49 of Set 2 | Yilan\n",
      "Processing Record 50 of Set 2 | Elko\n",
      "Processing Record 51 of Set 2 | Tuatapere\n",
      "Processing Record 52 of Set 2 | Nanortalik\n",
      "Processing Record 53 of Set 2 | Broome\n",
      "Processing Record 54 of Set 2 | Cabo San Lucas\n",
      "Processing Record 55 of Set 2 | Filingué\n",
      "Please wait 10 seconds to allow for API call limit\n",
      "City not found. Skipping...\n",
      "Processing Record 2 of Set 3 | New Norfolk\n",
      "Processing Record 3 of Set 3 | Kokstad\n",
      "Processing Record 4 of Set 3 | Humboldt\n",
      "Processing Record 5 of Set 3 | Doha\n",
      "Processing Record 6 of Set 3 | Salé\n",
      "City not found. Skipping...\n",
      "Processing Record 8 of Set 3 | Putina\n",
      "Processing Record 9 of Set 3 | Castle Rock\n",
      "Processing Record 10 of Set 3 | Torbay\n",
      "Processing Record 11 of Set 3 | Gore\n",
      "Processing Record 12 of Set 3 | Bredasdorp\n",
      "Processing Record 13 of Set 3 | Ambilobe\n",
      "Processing Record 14 of Set 3 | Popondetta\n",
      "Processing Record 15 of Set 3 | Slave Lake\n",
      "Processing Record 16 of Set 3 | Guerrero Negro\n",
      "City not found. Skipping...\n",
      "Processing Record 18 of Set 3 | Kaitangata\n",
      "Processing Record 19 of Set 3 | Grand-Santi\n",
      "Processing Record 20 of Set 3 | Sterling\n",
      "Processing Record 21 of Set 3 | Necochea\n",
      "Processing Record 22 of Set 3 | Havøysund\n",
      "Processing Record 23 of Set 3 | Haines Junction\n",
      "Processing Record 24 of Set 3 | Santa Isabel\n",
      "Processing Record 25 of Set 3 | Beaverlodge\n",
      "Processing Record 26 of Set 3 | Plastun\n",
      "Processing Record 27 of Set 3 | Butaritari\n",
      "Processing Record 28 of Set 3 | Hofn\n",
      "Processing Record 29 of Set 3 | Port Hedland\n",
      "City not found. Skipping...\n",
      "Processing Record 31 of Set 3 | Tarakan\n",
      "Processing Record 32 of Set 3 | Prince George\n",
      "Processing Record 33 of Set 3 | Kahului\n",
      "Processing Record 34 of Set 3 | Leningradskiy\n",
      "City not found. Skipping...\n",
      "Processing Record 36 of Set 3 | Kolosovka\n",
      "Processing Record 37 of Set 3 | Maturin\n",
      "Processing Record 38 of Set 3 | Myaundzha\n",
      "Processing Record 39 of Set 3 | Bonthe\n",
      "Processing Record 40 of Set 3 | Jamestown\n",
      "Processing Record 41 of Set 3 | Khatanga\n",
      "Processing Record 42 of Set 3 | Waitati\n",
      "Processing Record 43 of Set 3 | Muros\n",
      "Processing Record 44 of Set 3 | Manacapuru\n",
      "Processing Record 45 of Set 3 | Pangnirtung\n",
      "Processing Record 46 of Set 3 | Faanui\n",
      "Processing Record 47 of Set 3 | Talnakh\n",
      "Processing Record 48 of Set 3 | Saint George\n",
      "Processing Record 49 of Set 3 | Belmonte\n",
      "Processing Record 50 of Set 3 | Port Elizabeth\n",
      "Processing Record 51 of Set 3 | Sahuaripa\n",
      "Processing Record 52 of Set 3 | Saint-Philippe\n",
      "Processing Record 53 of Set 3 | Arraial do Cabo\n",
      "Processing Record 54 of Set 3 | Bambanglipuro\n",
      "Processing Record 55 of Set 3 | Lüderitz\n",
      "Please wait 10 seconds to allow for API call limit\n",
      "Processing Record 1 of Set 4 | Bethel\n",
      "Processing Record 2 of Set 4 | Grindavik\n",
      "Processing Record 3 of Set 4 | Kawalu\n",
      "Processing Record 4 of Set 4 | Lázaro Cárdenas\n",
      "Processing Record 5 of Set 4 | São Filipe\n",
      "Processing Record 6 of Set 4 | Quelimane\n",
      "Processing Record 7 of Set 4 | Mahébourg\n",
      "Processing Record 8 of Set 4 | Sālūmbar\n",
      "Processing Record 9 of Set 4 | Iskateley\n",
      "Processing Record 10 of Set 4 | Buchanan\n",
      "Processing Record 11 of Set 4 | Mwense\n",
      "Processing Record 12 of Set 4 | Pangai\n",
      "Processing Record 13 of Set 4 | Sept-Îles\n",
      "City not found. Skipping...\n",
      "Processing Record 15 of Set 4 | Ostrovnoy\n",
      "Processing Record 16 of Set 4 | Thinadhoo\n",
      "Processing Record 17 of Set 4 | Ihosy\n",
      "Processing Record 18 of Set 4 | Rajanpur\n",
      "Processing Record 19 of Set 4 | Luan\n",
      "Processing Record 20 of Set 4 | Mosal'sk\n",
      "Processing Record 21 of Set 4 | Kirakira\n",
      "Processing Record 22 of Set 4 | Tiksi\n",
      "Processing Record 23 of Set 4 | Chabahar\n",
      "Processing Record 24 of Set 4 | Ereymentau\n",
      "Processing Record 25 of Set 4 | Pabradė\n",
      "Processing Record 26 of Set 4 | Bilma\n",
      "Processing Record 27 of Set 4 | Marsaxlokk\n",
      "Processing Record 28 of Set 4 | San Nicolas\n",
      "Processing Record 29 of Set 4 | Vanimo\n",
      "Processing Record 30 of Set 4 | Batagay-Alyta\n",
      "Processing Record 31 of Set 4 | Albany\n",
      "Processing Record 32 of Set 4 | Gimbi\n",
      "Processing Record 33 of Set 4 | Granja\n",
      "Processing Record 34 of Set 4 | Baruun-Urt\n",
      "Processing Record 35 of Set 4 | Dakar\n"
     ]
    },
    {
     "name": "stdout",
     "output_type": "stream",
     "text": [
      "Processing Record 36 of Set 4 | Hobyo\n",
      "Processing Record 37 of Set 4 | Taoudenni\n",
      "Processing Record 38 of Set 4 | Machalí\n",
      "City not found. Skipping...\n",
      "Processing Record 40 of Set 4 | Bambous Virieux\n",
      "Processing Record 41 of Set 4 | Khor\n",
      "Processing Record 42 of Set 4 | Narsaq\n",
      "Processing Record 43 of Set 4 | Agadez\n",
      "Processing Record 44 of Set 4 | Hambantota\n",
      "Processing Record 45 of Set 4 | Mudanjiang\n",
      "Processing Record 46 of Set 4 | Erzin\n",
      "Processing Record 47 of Set 4 | Goundam\n",
      "Processing Record 48 of Set 4 | Iqaluit\n",
      "Processing Record 49 of Set 4 | Adana Province\n",
      "Processing Record 50 of Set 4 | Honggang\n",
      "Processing Record 51 of Set 4 | Petropavlovsk-Kamchatskiy\n",
      "Processing Record 52 of Set 4 | Stephenville\n",
      "Processing Record 53 of Set 4 | Koslan\n",
      "Processing Record 54 of Set 4 | Clyde River\n",
      "City not found. Skipping...\n",
      "Please wait 10 seconds to allow for API call limit\n",
      "Processing Record 1 of Set 5 | Humaitá\n",
      "Processing Record 2 of Set 5 | Dāmghān\n",
      "Processing Record 3 of Set 5 | Severo-Kuril'sk\n",
      "Processing Record 4 of Set 5 | Sedona\n",
      "Processing Record 5 of Set 5 | Alençon\n",
      "City not found. Skipping...\n",
      "City not found. Skipping...\n",
      "Processing Record 8 of Set 5 | Fortuna\n",
      "Processing Record 9 of Set 5 | Solnechnyy\n",
      "Processing Record 10 of Set 5 | Jever\n",
      "City not found. Skipping...\n",
      "Processing Record 12 of Set 5 | Poli\n",
      "Processing Record 13 of Set 5 | Atar\n",
      "Processing Record 14 of Set 5 | Nachingwea\n",
      "Processing Record 15 of Set 5 | Cidreira\n",
      "Processing Record 16 of Set 5 | Mundo Nuevo (Ojo de Agua)\n",
      "Processing Record 17 of Set 5 | Luena\n",
      "Processing Record 18 of Set 5 | Ifakara\n",
      "Processing Record 19 of Set 5 | Sulangan\n",
      "Processing Record 20 of Set 5 | Elhovo\n",
      "Processing Record 21 of Set 5 | Nikolskoye\n",
      "Processing Record 22 of Set 5 | Marystown\n",
      "Processing Record 23 of Set 5 | Tateyama\n",
      "Processing Record 24 of Set 5 | St. George's\n",
      "Processing Record 25 of Set 5 | Flagstaff\n",
      "Processing Record 26 of Set 5 | Cam Ranh\n",
      "Processing Record 27 of Set 5 | Pevek\n",
      "Processing Record 28 of Set 5 | Farnes\n",
      "Processing Record 29 of Set 5 | Luganville\n",
      "Processing Record 30 of Set 5 | Banjarmasin\n",
      "Processing Record 31 of Set 5 | Nowy Sącz\n",
      "Processing Record 32 of Set 5 | Seoul\n",
      "Processing Record 33 of Set 5 | Beloha\n",
      "Processing Record 34 of Set 5 | Zhuanghe\n",
      "Processing Record 35 of Set 5 | Kushiro\n",
      "Processing Record 36 of Set 5 | Fort-Shevchenko\n",
      "Processing Record 37 of Set 5 | Noumea\n",
      "Processing Record 38 of Set 5 | Zaragoza\n",
      "Processing Record 39 of Set 5 | Constitución\n",
      "Processing Record 40 of Set 5 | Ponnāni\n",
      "City not found. Skipping...\n",
      "Processing Record 42 of Set 5 | Safi\n",
      "City not found. Skipping...\n",
      "Processing Record 44 of Set 5 | Ixtapa\n",
      "Processing Record 45 of Set 5 | Moussoro\n",
      "Processing Record 46 of Set 5 | Port-Gentil\n",
      "Processing Record 47 of Set 5 | Tamandaré\n",
      "Processing Record 48 of Set 5 | Aklavik\n",
      "Processing Record 49 of Set 5 | Altagracia de Orituco\n",
      "City not found. Skipping...\n",
      "Processing Record 51 of Set 5 | Rocha\n",
      "Processing Record 52 of Set 5 | Donghai\n",
      "City not found. Skipping...\n",
      "Processing Record 54 of Set 5 | Esperance\n",
      "Processing Record 55 of Set 5 | Chernyshevskiy\n",
      "Please wait 10 seconds to allow for API call limit\n",
      "Processing Record 1 of Set 6 | Hilo\n",
      "Processing Record 2 of Set 6 | Palu\n",
      "Processing Record 3 of Set 6 | Lichuan\n",
      "Processing Record 4 of Set 6 | Shitkino\n",
      "City not found. Skipping...\n",
      "Processing Record 6 of Set 6 | Hargeisa\n",
      "Processing Record 7 of Set 6 | Codrington\n",
      "City not found. Skipping...\n",
      "Processing Record 9 of Set 6 | Cap Malheureux\n",
      "Processing Record 10 of Set 6 | Souillac\n",
      "Processing Record 11 of Set 6 | Yerbogachën\n",
      "Processing Record 12 of Set 6 | Nantucket\n",
      "Processing Record 13 of Set 6 | Taltal\n",
      "Processing Record 14 of Set 6 | Luocheng\n",
      "Processing Record 15 of Set 6 | Saint Paul Harbor\n",
      "City not found. Skipping...\n",
      "Processing Record 17 of Set 6 | Juneau\n",
      "Processing Record 18 of Set 6 | Galle\n",
      "Processing Record 19 of Set 6 | Barcelos\n",
      "City not found. Skipping...\n",
      "Processing Record 21 of Set 6 | Karla\n",
      "Processing Record 22 of Set 6 | Rantepao\n",
      "City not found. Skipping...\n",
      "Processing Record 24 of Set 6 | Mahibadhoo\n",
      "Processing Record 25 of Set 6 | Berkåk\n",
      "Processing Record 26 of Set 6 | Chipinge\n",
      "Processing Record 27 of Set 6 | Russell\n",
      "Processing Record 28 of Set 6 | Nago\n",
      "Processing Record 29 of Set 6 | Klaksvík\n",
      "Processing Record 30 of Set 6 | Ambon City\n",
      "Processing Record 31 of Set 6 | Omboué\n",
      "Processing Record 32 of Set 6 | Māngrol\n",
      "Processing Record 33 of Set 6 | Kiryat Gat\n",
      "Processing Record 34 of Set 6 | Yulara\n",
      "Processing Record 35 of Set 6 | Marawi\n",
      "Processing Record 36 of Set 6 | Ponta do Sol\n",
      "City not found. Skipping...\n",
      "Processing Record 38 of Set 6 | Nouadhibou\n",
      "City not found. Skipping...\n",
      "Processing Record 40 of Set 6 | Saskylakh\n",
      "City not found. Skipping...\n",
      "Processing Record 42 of Set 6 | Saint-Joseph\n",
      "Processing Record 43 of Set 6 | Nome\n",
      "Processing Record 44 of Set 6 | Cayenne\n",
      "Processing Record 45 of Set 6 | Hanyang\n",
      "Processing Record 46 of Set 6 | Yar-Sale\n",
      "Processing Record 47 of Set 6 | Iporá\n",
      "Processing Record 48 of Set 6 | Yokadouma\n",
      "Processing Record 49 of Set 6 | Boguchany\n",
      "Processing Record 50 of Set 6 | Selikhino\n",
      "Processing Record 51 of Set 6 | Lana\n",
      "Processing Record 52 of Set 6 | Singaraja\n",
      "Processing Record 53 of Set 6 | Zaysan\n",
      "Processing Record 54 of Set 6 | Chiredzi\n",
      "Processing Record 55 of Set 6 | Talara\n",
      "Please wait 10 seconds to allow for API call limit\n",
      "Processing Record 1 of Set 7 | Kununurra\n",
      "Processing Record 2 of Set 7 | Abbeville\n",
      "Processing Record 3 of Set 7 | Pauini\n",
      "Processing Record 4 of Set 7 | Hasaki\n",
      "Processing Record 5 of Set 7 | Vardø\n",
      "Processing Record 6 of Set 7 | Makaha\n",
      "Processing Record 7 of Set 7 | Halifax\n",
      "Processing Record 8 of Set 7 | Dwārka\n",
      "Processing Record 9 of Set 7 | Dunedin\n",
      "Processing Record 10 of Set 7 | Te Anau\n",
      "Processing Record 11 of Set 7 | Shawinigan\n",
      "Processing Record 12 of Set 7 | Biloela\n",
      "Processing Record 13 of Set 7 | Shubarshi\n",
      "Processing Record 14 of Set 7 | Touros\n",
      "Processing Record 15 of Set 7 | Hamilton\n",
      "Processing Record 16 of Set 7 | Matagami\n",
      "City not found. Skipping...\n",
      "Processing Record 18 of Set 7 | Lago da Pedra\n",
      "Processing Record 19 of Set 7 | Bagdarin\n",
      "City not found. Skipping...\n",
      "Processing Record 21 of Set 7 | Faya\n",
      "Processing Record 22 of Set 7 | Sobolevo\n",
      "Processing Record 23 of Set 7 | Vuktyl\n",
      "Processing Record 24 of Set 7 | Khingansk\n",
      "Processing Record 25 of Set 7 | Lincoln\n",
      "Processing Record 26 of Set 7 | Saint-Augustin\n",
      "Processing Record 27 of Set 7 | Progreso\n",
      "Processing Record 28 of Set 7 | Ondjiva\n",
      "Processing Record 29 of Set 7 | Alice Springs\n",
      "Processing Record 30 of Set 7 | Nichinan\n",
      "Processing Record 31 of Set 7 | La Rioja\n",
      "Processing Record 32 of Set 7 | Mossamedes\n",
      "Processing Record 33 of Set 7 | Salalah\n",
      "Processing Record 34 of Set 7 | Palm Valley\n",
      "Processing Record 35 of Set 7 | São José da Coroa Grande\n",
      "Processing Record 36 of Set 7 | Santa Cruz\n",
      "Processing Record 37 of Set 7 | Luleå\n",
      "Processing Record 38 of Set 7 | Mumbwa\n",
      "Processing Record 39 of Set 7 | Boa Vista\n",
      "Processing Record 40 of Set 7 | Shahr-e Kord\n",
      "Processing Record 41 of Set 7 | Kempten (Allgäu)\n",
      "Processing Record 42 of Set 7 | Antalaha\n",
      "Processing Record 43 of Set 7 | Puquio\n",
      "Processing Record 44 of Set 7 | Port Blair\n",
      "Processing Record 45 of Set 7 | Kutum\n",
      "Processing Record 46 of Set 7 | Poronaysk\n",
      "Processing Record 47 of Set 7 | Ginda\n",
      "Processing Record 48 of Set 7 | Timrå\n",
      "City not found. Skipping...\n",
      "Processing Record 50 of Set 7 | Fortaleza\n",
      "Processing Record 51 of Set 7 | Manta\n",
      "City not found. Skipping...\n",
      "Processing Record 53 of Set 7 | Watrous\n",
      "Processing Record 54 of Set 7 | Ikom\n",
      "Processing Record 55 of Set 7 | Davila\n",
      "Please wait 10 seconds to allow for API call limit\n",
      "Processing Record 1 of Set 8 | Bodden Town\n",
      "Processing Record 2 of Set 8 | Krasnogvardeyskoye\n",
      "Processing Record 3 of Set 8 | Saldanha\n",
      "Processing Record 4 of Set 8 | El Dovio\n",
      "Processing Record 5 of Set 8 | Khakhea\n",
      "Processing Record 6 of Set 8 | Araouane\n",
      "Processing Record 7 of Set 8 | Matsuura\n",
      "Processing Record 8 of Set 8 | Kumul\n",
      "Processing Record 9 of Set 8 | Khovd\n",
      "Processing Record 10 of Set 8 | El Ejido\n",
      "Processing Record 11 of Set 8 | Rovaniemi\n",
      "Processing Record 12 of Set 8 | Shangzhi\n",
      "Processing Record 13 of Set 8 | Mokhsogollokh\n",
      "Processing Record 14 of Set 8 | Rawson\n",
      "Processing Record 15 of Set 8 | Ulkan\n",
      "Processing Record 16 of Set 8 | Makakilo City\n"
     ]
    },
    {
     "name": "stdout",
     "output_type": "stream",
     "text": [
      "Processing Record 17 of Set 8 | Pemangkat\n",
      "Processing Record 18 of Set 8 | Raja\n",
      "Processing Record 19 of Set 8 | Sioux Lookout\n",
      "Processing Record 20 of Set 8 | Asău\n",
      "Processing Record 21 of Set 8 | Tuxtla Gutiérrez\n",
      "Processing Record 22 of Set 8 | Praia\n",
      "Processing Record 23 of Set 8 | Chimbote\n",
      "City not found. Skipping...\n",
      "Processing Record 25 of Set 8 | San Cristobal\n",
      "Processing Record 26 of Set 8 | Kiama\n",
      "Processing Record 27 of Set 8 | Balkanabat\n",
      "Processing Record 28 of Set 8 | Gao\n",
      "Processing Record 29 of Set 8 | Saint-Doulchard\n",
      "Processing Record 30 of Set 8 | Yerofey Pavlovich\n",
      "Processing Record 31 of Set 8 | Tefé\n",
      "Processing Record 32 of Set 8 | Kruisfontein\n",
      "Processing Record 33 of Set 8 | Kamloops\n",
      "Processing Record 34 of Set 8 | Chokurdakh\n",
      "Processing Record 35 of Set 8 | Kikwit\n",
      "Processing Record 36 of Set 8 | Panguna\n",
      "Processing Record 37 of Set 8 | Mnogovershinnyy\n",
      "Processing Record 38 of Set 8 | Balyqshy\n",
      "Processing Record 39 of Set 8 | Paragominas\n",
      "Processing Record 40 of Set 8 | Changping\n",
      "City not found. Skipping...\n",
      "Processing Record 42 of Set 8 | Weymouth\n",
      "Processing Record 43 of Set 8 | Bahir Dar\n",
      "Processing Record 44 of Set 8 | Puri\n",
      "Processing Record 45 of Set 8 | Pyaozerskiy\n",
      "Processing Record 46 of Set 8 | Siilinjärvi\n",
      "Processing Record 47 of Set 8 | Iraray\n",
      "Processing Record 48 of Set 8 | Botngård\n",
      "Processing Record 49 of Set 8 | Pokhara\n",
      "Processing Record 50 of Set 8 | Ponta Delgada\n",
      "Processing Record 51 of Set 8 | Punta Alta\n",
      "Processing Record 52 of Set 8 | Northam\n",
      "Processing Record 53 of Set 8 | Neuquén\n",
      "Processing Record 54 of Set 8 | Comodoro Rivadavia\n",
      "Processing Record 55 of Set 8 | Lorengau\n",
      "Please wait 10 seconds to allow for API call limit\n",
      "Processing Record 1 of Set 9 | Kulu\n",
      "Processing Record 2 of Set 9 | Channel-Port aux Basques\n",
      "Processing Record 3 of Set 9 | Japura\n",
      "Processing Record 4 of Set 9 | Arlit\n",
      "Processing Record 5 of Set 9 | Hakui\n",
      "Processing Record 6 of Set 9 | Luanda\n",
      "Processing Record 7 of Set 9 | Marsabit\n",
      "Processing Record 8 of Set 9 | Antofagasta\n",
      "Processing Record 9 of Set 9 | Puerto del Rosario\n",
      "Processing Record 10 of Set 9 | Cabinda\n",
      "Processing Record 11 of Set 9 | Ketchikan\n",
      "Processing Record 12 of Set 9 | Blacksburg\n",
      "Processing Record 13 of Set 9 | Laas\n",
      "Processing Record 14 of Set 9 | Isangel\n",
      "Processing Record 15 of Set 9 | Novosheshminsk\n",
      "Processing Record 16 of Set 9 | Codó\n",
      "Processing Record 17 of Set 9 | Alta Floresta\n",
      "Processing Record 18 of Set 9 | Vilhena\n",
      "Processing Record 19 of Set 9 | Amahai\n",
      "Processing Record 20 of Set 9 | Srednekolymsk\n",
      "Processing Record 21 of Set 9 | Shumskiy\n",
      "Processing Record 22 of Set 9 | Ubari\n",
      "Processing Record 23 of Set 9 | Kyra\n",
      "Processing Record 24 of Set 9 | Urucará\n",
      "Processing Record 25 of Set 9 | Ibrā’\n",
      "Processing Record 26 of Set 9 | Almirante\n",
      "Processing Record 27 of Set 9 | Kintampo\n",
      "Processing Record 28 of Set 9 | Alekseyevsk\n",
      "City not found. Skipping...\n",
      "Processing Record 30 of Set 9 | Katangli\n",
      "Processing Record 31 of Set 9 | Kinshasa\n",
      "Processing Record 32 of Set 9 | Portland\n",
      "Processing Record 33 of Set 9 | Ardakān\n",
      "Processing Record 34 of Set 9 | Fare\n",
      "Processing Record 35 of Set 9 | Chifeng\n",
      "City not found. Skipping...\n",
      "Processing Record 37 of Set 9 | Abalak\n",
      "Processing Record 38 of Set 9 | Fukuechō\n",
      "Processing Record 39 of Set 9 | Innisfail\n",
      "Processing Record 40 of Set 9 | Bubaque\n",
      "Processing Record 41 of Set 9 | Okha\n",
      "Processing Record 42 of Set 9 | Awjilah\n",
      "Processing Record 43 of Set 9 | North Bend\n",
      "Processing Record 44 of Set 9 | Storm Lake\n",
      "Processing Record 45 of Set 9 | Boundiali\n",
      "Processing Record 46 of Set 9 | Malinyi\n",
      "Processing Record 47 of Set 9 | Chapais\n",
      "Processing Record 48 of Set 9 | San Miguel de Cozumel\n",
      "Processing Record 49 of Set 9 | Batán\n",
      "Processing Record 50 of Set 9 | Shetpe\n",
      "Processing Record 51 of Set 9 | Mossendjo\n",
      "Processing Record 52 of Set 9 | Dubai\n",
      "Processing Record 53 of Set 9 | San Javier\n",
      "Processing Record 54 of Set 9 | Maningrida\n",
      "Processing Record 55 of Set 9 | Suntar\n",
      "Please wait 10 seconds to allow for API call limit\n",
      "Processing Record 1 of Set 10 | Teya\n",
      "Processing Record 2 of Set 10 | Gryazovets\n",
      "Processing Record 3 of Set 10 | Malakal\n",
      "Processing Record 4 of Set 10 | Masuguru\n",
      "Processing Record 5 of Set 10 | Poum\n",
      "Processing Record 6 of Set 10 | Fort Nelson\n",
      "Processing Record 7 of Set 10 | Morehead\n",
      "Processing Record 8 of Set 10 | Shingū\n",
      "Processing Record 9 of Set 10 | Lakhisarai\n",
      "Processing Record 10 of Set 10 | Ancud\n",
      "Processing Record 11 of Set 10 | Moerai\n",
      "Processing Record 12 of Set 10 | Emmett\n",
      "Processing Record 13 of Set 10 | Dingle\n",
      "Processing Record 14 of Set 10 | Labuhan\n",
      "City not found. Skipping...\n",
      "Processing Record 16 of Set 10 | Margate\n",
      "Processing Record 17 of Set 10 | Andenes\n",
      "Processing Record 18 of Set 10 | Makkah al Mukarramah\n",
      "Processing Record 19 of Set 10 | Qurayyat\n",
      "City not found. Skipping...\n",
      "Processing Record 21 of Set 10 | Contamana\n",
      "Processing Record 22 of Set 10 | Tilichiki\n",
      "Processing Record 23 of Set 10 | Sain Alto\n",
      "Processing Record 24 of Set 10 | Alofi\n",
      "Processing Record 25 of Set 10 | Havelock\n",
      "Processing Record 26 of Set 10 | Hanstholm\n",
      "Processing Record 27 of Set 10 | Port Macquarie\n",
      "Processing Record 28 of Set 10 | Cravo Norte\n",
      "Processing Record 29 of Set 10 | Lensk\n",
      "Processing Record 30 of Set 10 | Ettaiyapuram\n",
      "Processing Record 31 of Set 10 | Moose Factory\n",
      "Processing Record 32 of Set 10 | Kilindoni\n",
      "City not found. Skipping...\n",
      "Processing Record 34 of Set 10 | Jiujiang\n",
      "City not found. Skipping...\n",
      "Processing Record 36 of Set 10 | Danielskuil\n",
      "Processing Record 37 of Set 10 | Turukhansk\n",
      "Processing Record 38 of Set 10 | Bintulu\n",
      "Processing Record 39 of Set 10 | Pahlgām\n",
      "Processing Record 40 of Set 10 | Mackay\n",
      "Processing Record 41 of Set 10 | Městec Králové\n",
      "Processing Record 42 of Set 10 | Zharkent\n",
      "Processing Record 43 of Set 10 | Kencong\n",
      "City not found. Skipping...\n",
      "Processing Record 45 of Set 10 | Ellisras\n",
      "Processing Record 46 of Set 10 | Livny\n",
      "City not found. Skipping...\n",
      "Processing Record 48 of Set 10 | Hervey Bay\n",
      "Processing Record 49 of Set 10 | Jalu\n",
      "Processing Record 50 of Set 10 | Vestmannaeyjar\n",
      "Processing Record 51 of Set 10 | Sisimiut\n",
      "Processing Record 52 of Set 10 | Kariba\n",
      "Processing Record 53 of Set 10 | Teguise\n",
      "Processing Record 54 of Set 10 | Prince Albert\n",
      "Processing Record 55 of Set 10 | Astoria\n",
      "Please wait 10 seconds to allow for API call limit\n",
      "Processing Record 1 of Set 11 | Pacific Grove\n",
      "Processing Record 2 of Set 11 | Weiser\n",
      "Processing Record 3 of Set 11 | Bereket\n",
      "Processing Record 4 of Set 11 | Sinnamary\n",
      "-----------------------------\n",
      "Data Retrieval Complete\n",
      "-----------------------------\n"
     ]
    }
   ],
   "source": [
    "# Set up lists to hold response information\n",
    "city_name = []\n",
    "country = []\n",
    "lat = []\n",
    "lng = []\n",
    "date = []\n",
    "cloudiness = []\n",
    "humidity = []\n",
    "max_temp = []\n",
    "wind_speed = []\n",
    "\n",
    "# Set initial count for Record and Set number\n",
    "record_count = 0\n",
    "set_count = 1\n",
    "\n",
    "# Begin data retrieval\n",
    "print(f\"Beginning Data Retrieval\")\n",
    "print(f\"-------------------------------\")\n",
    "\n",
    "# Loop through each city in cities_ls\n",
    "for city in cities_ls:\n",
    "    \n",
    "    response = requests.get(query_url + city).json()\n",
    "    record_count = record_count + 1\n",
    "    # Try to find city in API, if it is found, append information to lists\n",
    "    try:\n",
    "        # Log print of processing\n",
    "        print(f\"Processing Record {record_count} of Set {set_count} | {response['name']}\")\n",
    "        \n",
    "        # Append lists with information requested\n",
    "        city_name.append(response[\"name\"])\n",
    "        country.append(response[\"sys\"][\"country\"])\n",
    "        lat.append(response['coord']['lat'])\n",
    "        lng.append(response['coord']['lon'])\n",
    "        date.append(response['dt'])\n",
    "        cloudiness.append(response['clouds']['all'])\n",
    "        humidity.append(response['main']['humidity'])\n",
    "        max_temp.append(response['main']['temp_max'])\n",
    "        wind_speed.append(response['wind']['speed'])\n",
    "        \n",
    "        # Keep track of record count\n",
    "#         record_count = record_count + 1\n",
    "    \n",
    "    # If city is not found, print not found\n",
    "    except:\n",
    "        print(\"City not found. Skipping...\")\n",
    "        \n",
    "    # Handling API call limits\n",
    "    if record_count == 55:\n",
    "        print(\"Please wait 10 seconds to allow for API call limit\")\n",
    "        set_count = set_count + 1\n",
    "        record_count = 0\n",
    "        time.sleep(10)\n",
    "\n",
    "print(\"-----------------------------\")\n",
    "print(\"Data Retrieval Complete\")      \n",
    "print(\"-----------------------------\")"
   ]
  },
  {
   "cell_type": "markdown",
   "metadata": {},
   "source": [
    "### Convert Raw Data to DataFrame\n",
    "* Export the city data into a .csv.\n",
    "* Display the DataFrame"
   ]
  },
  {
   "cell_type": "code",
   "execution_count": 21,
   "metadata": {},
   "outputs": [
    {
     "data": {
      "text/html": [
       "<div>\n",
       "<style scoped>\n",
       "    .dataframe tbody tr th:only-of-type {\n",
       "        vertical-align: middle;\n",
       "    }\n",
       "\n",
       "    .dataframe tbody tr th {\n",
       "        vertical-align: top;\n",
       "    }\n",
       "\n",
       "    .dataframe thead th {\n",
       "        text-align: right;\n",
       "    }\n",
       "</style>\n",
       "<table border=\"1\" class=\"dataframe\">\n",
       "  <thead>\n",
       "    <tr style=\"text-align: right;\">\n",
       "      <th></th>\n",
       "      <th>City</th>\n",
       "      <th>Country</th>\n",
       "      <th>Latitude</th>\n",
       "      <th>Longitude</th>\n",
       "      <th>Date</th>\n",
       "      <th>Cloudiness (%)</th>\n",
       "      <th>Humidity (%)</th>\n",
       "      <th>Max Temperature (°C)</th>\n",
       "      <th>Wind Speed (m/s)</th>\n",
       "    </tr>\n",
       "  </thead>\n",
       "  <tbody>\n",
       "    <tr>\n",
       "      <th>0</th>\n",
       "      <td>Bengkulu</td>\n",
       "      <td>ID</td>\n",
       "      <td>-3.8004</td>\n",
       "      <td>102.2655</td>\n",
       "      <td>1619514452</td>\n",
       "      <td>38</td>\n",
       "      <td>76</td>\n",
       "      <td>28.86</td>\n",
       "      <td>2.69</td>\n",
       "    </tr>\n",
       "    <tr>\n",
       "      <th>1</th>\n",
       "      <td>Kavieng</td>\n",
       "      <td>PG</td>\n",
       "      <td>-2.5744</td>\n",
       "      <td>150.7967</td>\n",
       "      <td>1619514472</td>\n",
       "      <td>98</td>\n",
       "      <td>77</td>\n",
       "      <td>27.98</td>\n",
       "      <td>3.69</td>\n",
       "    </tr>\n",
       "    <tr>\n",
       "      <th>2</th>\n",
       "      <td>Loandjili</td>\n",
       "      <td>CG</td>\n",
       "      <td>-4.7561</td>\n",
       "      <td>11.8578</td>\n",
       "      <td>1619514409</td>\n",
       "      <td>40</td>\n",
       "      <td>79</td>\n",
       "      <td>29.00</td>\n",
       "      <td>3.60</td>\n",
       "    </tr>\n",
       "    <tr>\n",
       "      <th>3</th>\n",
       "      <td>Qaanaaq</td>\n",
       "      <td>GL</td>\n",
       "      <td>77.4840</td>\n",
       "      <td>-69.3632</td>\n",
       "      <td>1619514472</td>\n",
       "      <td>99</td>\n",
       "      <td>71</td>\n",
       "      <td>-0.12</td>\n",
       "      <td>3.79</td>\n",
       "    </tr>\n",
       "    <tr>\n",
       "      <th>4</th>\n",
       "      <td>Barra de Tecoanapa</td>\n",
       "      <td>MX</td>\n",
       "      <td>16.5167</td>\n",
       "      <td>-98.7500</td>\n",
       "      <td>1619514472</td>\n",
       "      <td>73</td>\n",
       "      <td>72</td>\n",
       "      <td>25.68</td>\n",
       "      <td>2.72</td>\n",
       "    </tr>\n",
       "    <tr>\n",
       "      <th>...</th>\n",
       "      <td>...</td>\n",
       "      <td>...</td>\n",
       "      <td>...</td>\n",
       "      <td>...</td>\n",
       "      <td>...</td>\n",
       "      <td>...</td>\n",
       "      <td>...</td>\n",
       "      <td>...</td>\n",
       "      <td>...</td>\n",
       "    </tr>\n",
       "    <tr>\n",
       "      <th>500</th>\n",
       "      <td>Astoria</td>\n",
       "      <td>US</td>\n",
       "      <td>46.1879</td>\n",
       "      <td>-123.8313</td>\n",
       "      <td>1619514418</td>\n",
       "      <td>90</td>\n",
       "      <td>93</td>\n",
       "      <td>8.89</td>\n",
       "      <td>1.54</td>\n",
       "    </tr>\n",
       "    <tr>\n",
       "      <th>501</th>\n",
       "      <td>Pacific Grove</td>\n",
       "      <td>US</td>\n",
       "      <td>36.6177</td>\n",
       "      <td>-121.9166</td>\n",
       "      <td>1619514678</td>\n",
       "      <td>40</td>\n",
       "      <td>71</td>\n",
       "      <td>11.00</td>\n",
       "      <td>2.06</td>\n",
       "    </tr>\n",
       "    <tr>\n",
       "      <th>502</th>\n",
       "      <td>Weiser</td>\n",
       "      <td>US</td>\n",
       "      <td>44.2510</td>\n",
       "      <td>-116.9693</td>\n",
       "      <td>1619514678</td>\n",
       "      <td>1</td>\n",
       "      <td>86</td>\n",
       "      <td>2.78</td>\n",
       "      <td>1.54</td>\n",
       "    </tr>\n",
       "    <tr>\n",
       "      <th>503</th>\n",
       "      <td>Bereket</td>\n",
       "      <td>TM</td>\n",
       "      <td>39.2446</td>\n",
       "      <td>55.5154</td>\n",
       "      <td>1619514678</td>\n",
       "      <td>30</td>\n",
       "      <td>14</td>\n",
       "      <td>35.92</td>\n",
       "      <td>3.97</td>\n",
       "    </tr>\n",
       "    <tr>\n",
       "      <th>504</th>\n",
       "      <td>Sinnamary</td>\n",
       "      <td>GF</td>\n",
       "      <td>5.3833</td>\n",
       "      <td>-52.9500</td>\n",
       "      <td>1619514678</td>\n",
       "      <td>100</td>\n",
       "      <td>93</td>\n",
       "      <td>24.29</td>\n",
       "      <td>3.55</td>\n",
       "    </tr>\n",
       "  </tbody>\n",
       "</table>\n",
       "<p>505 rows × 9 columns</p>\n",
       "</div>"
      ],
      "text/plain": [
       "                   City Country  Latitude  Longitude        Date  \\\n",
       "0              Bengkulu      ID   -3.8004   102.2655  1619514452   \n",
       "1               Kavieng      PG   -2.5744   150.7967  1619514472   \n",
       "2             Loandjili      CG   -4.7561    11.8578  1619514409   \n",
       "3               Qaanaaq      GL   77.4840   -69.3632  1619514472   \n",
       "4    Barra de Tecoanapa      MX   16.5167   -98.7500  1619514472   \n",
       "..                  ...     ...       ...        ...         ...   \n",
       "500             Astoria      US   46.1879  -123.8313  1619514418   \n",
       "501       Pacific Grove      US   36.6177  -121.9166  1619514678   \n",
       "502              Weiser      US   44.2510  -116.9693  1619514678   \n",
       "503             Bereket      TM   39.2446    55.5154  1619514678   \n",
       "504           Sinnamary      GF    5.3833   -52.9500  1619514678   \n",
       "\n",
       "     Cloudiness (%)  Humidity (%)  Max Temperature (°C)  Wind Speed (m/s)  \n",
       "0                38            76                 28.86              2.69  \n",
       "1                98            77                 27.98              3.69  \n",
       "2                40            79                 29.00              3.60  \n",
       "3                99            71                 -0.12              3.79  \n",
       "4                73            72                 25.68              2.72  \n",
       "..              ...           ...                   ...               ...  \n",
       "500              90            93                  8.89              1.54  \n",
       "501              40            71                 11.00              2.06  \n",
       "502               1            86                  2.78              1.54  \n",
       "503              30            14                 35.92              3.97  \n",
       "504             100            93                 24.29              3.55  \n",
       "\n",
       "[505 rows x 9 columns]"
      ]
     },
     "execution_count": 21,
     "metadata": {},
     "output_type": "execute_result"
    }
   ],
   "source": [
    "# Create Weather Data DataFrame\n",
    "weather_data = pd.DataFrame({\"City\": city_name,\n",
    "                           \"Country\": country,\n",
    "                           \"Latitude\": lat,\n",
    "                           \"Longitude\": lng,\n",
    "                           \"Date\": date,\n",
    "                           \"Cloudiness (%)\": cloudiness,\n",
    "                           \"Humidity (%)\": humidity,\n",
    "                           \"Max Temperature (°C)\": max_temp,\n",
    "                           \"Wind Speed (m/s)\": wind_speed\n",
    "                            })\n",
    "\n",
    "# Save DataFrame as CSV\n",
    "weather_data.to_csv(\"output_data/weather_data.csv\", index=False, header=True)\n",
    "\n",
    "# Display DataFrame\n",
    "weather_data"
   ]
  },
  {
   "cell_type": "markdown",
   "metadata": {},
   "source": [
    "## Inspect the data and remove the cities where the humidity > 100%."
   ]
  },
  {
   "cell_type": "code",
   "execution_count": 25,
   "metadata": {},
   "outputs": [
    {
     "data": {
      "text/html": [
       "<div>\n",
       "<style scoped>\n",
       "    .dataframe tbody tr th:only-of-type {\n",
       "        vertical-align: middle;\n",
       "    }\n",
       "\n",
       "    .dataframe tbody tr th {\n",
       "        vertical-align: top;\n",
       "    }\n",
       "\n",
       "    .dataframe thead th {\n",
       "        text-align: right;\n",
       "    }\n",
       "</style>\n",
       "<table border=\"1\" class=\"dataframe\">\n",
       "  <thead>\n",
       "    <tr style=\"text-align: right;\">\n",
       "      <th></th>\n",
       "      <th>City</th>\n",
       "      <th>Country</th>\n",
       "      <th>Latitude</th>\n",
       "      <th>Longitude</th>\n",
       "      <th>Date</th>\n",
       "      <th>Cloudiness (%)</th>\n",
       "      <th>Humidity (%)</th>\n",
       "      <th>Max Temperature (°C)</th>\n",
       "      <th>Wind Speed (m/s)</th>\n",
       "    </tr>\n",
       "  </thead>\n",
       "  <tbody>\n",
       "  </tbody>\n",
       "</table>\n",
       "</div>"
      ],
      "text/plain": [
       "Empty DataFrame\n",
       "Columns: [City, Country, Latitude, Longitude, Date, Cloudiness (%), Humidity (%), Max Temperature (°C), Wind Speed (m/s)]\n",
       "Index: []"
      ]
     },
     "execution_count": 25,
     "metadata": {},
     "output_type": "execute_result"
    }
   ],
   "source": [
    "weather_data.loc[weather_data[\"Humidity (%)\"] > 100]"
   ]
  },
  {
   "cell_type": "code",
   "execution_count": 7,
   "metadata": {},
   "outputs": [
    {
     "name": "stdout",
     "output_type": "stream",
     "text": [
      "There are no cities where humidity > 100%\n"
     ]
    }
   ],
   "source": [
    "print(\"There are no cities where humidity > 100%\")"
   ]
  },
  {
   "cell_type": "markdown",
   "metadata": {},
   "source": [
    "## Plotting the Data\n",
    "* Use proper labeling of the plots using plot titles (including date of analysis) and axes labels.\n",
    "* Save the plotted figures as .pngs."
   ]
  },
  {
   "cell_type": "markdown",
   "metadata": {},
   "source": [
    "## Latitude vs. Temperature Plot"
   ]
  },
  {
   "cell_type": "code",
   "execution_count": 8,
   "metadata": {
    "scrolled": true
   },
   "outputs": [
    {
     "data": {
      "image/png": "[encoded data removed]",
      "text/plain": [
       "<Figure size 432x288 with 1 Axes>"
      ]
     },
     "metadata": {
      "needs_background": "light"
     },
     "output_type": "display_data"
    }
   ],
   "source": [
    "# Build scatter plot\n",
    "plt.scatter(weather_data[\"Latitude\"], weather_data[\"Max Temperature (°C)\"], marker=\"o\")\n",
    "\n",
    "# Add graph properties\n",
    "plt.title(f'City Latitude vs. Max Temperature {time.strftime(\"%d/%m/%Y\")}')\n",
    "plt.ylabel(\"Temperature (°C)\")\n",
    "plt.xlabel(\"Latitude\")\n",
    "plt.grid(True)\n",
    "\n",
    "# Save the figure\n",
    "plt.savefig(\"output_data/city_latitude_vs_max_temperature.png\")\n",
    "\n",
    "# Show plot\n",
    "plt.show()"
   ]
  },
  {
   "cell_type": "markdown",
   "metadata": {},
   "source": [
    "- This plot is showing how the Maximum Temperature of a city is affected by its latitude\n",
    "- The plot shows that city's with latitude closer to the equator (latitude = 0) have a higher maximum temperature than those cities away from the equator "
   ]
  },
  {
   "cell_type": "markdown",
   "metadata": {},
   "source": [
    "## Latitude vs. Humidity Plot"
   ]
  },
  {
   "cell_type": "code",
   "execution_count": 9,
   "metadata": {},
   "outputs": [
    {
     "data": {
      "image/png": "[encoded data removed]",
      "text/plain": [
       "<Figure size 432x288 with 1 Axes>"
      ]
     },
     "metadata": {
      "needs_background": "light"
     },
     "output_type": "display_data"
    }
   ],
   "source": [
    "# Build scatter plot\n",
    "plt.scatter(weather_data[\"Latitude\"], weather_data[\"Humidity (%)\"], marker=\"o\")\n",
    "\n",
    "# Add graph properties\n",
    "plt.title(f'City Latitude vs. Humidity {time.strftime(\"%d/%m/%Y\")}')\n",
    "plt.ylabel(\"Humidity (%)\")\n",
    "plt.xlabel(\"Latitude\")\n",
    "plt.grid(True)\n",
    "\n",
    "# Save the figure\n",
    "plt.savefig(\"output_data/city_latitude_vs_humidity.png\")\n",
    "\n",
    "# Show plot\n",
    "plt.show()"
   ]
  },
  {
   "cell_type": "markdown",
   "metadata": {},
   "source": [
    "- This plot shows the relationship between a city's latitude and its humidity percentage  \n",
    "- Based on a visual analysis of the plot, there seems to be no correlation between latitute and humidity percentage"
   ]
  },
  {
   "cell_type": "markdown",
   "metadata": {},
   "source": [
    "## Latitude vs. Cloudiness Plot"
   ]
  },
  {
   "cell_type": "code",
   "execution_count": 10,
   "metadata": {},
   "outputs": [
    {
     "data": {
      "image/png": "[encoded data removed]",
      "text/plain": [
       "<Figure size 432x288 with 1 Axes>"
      ]
     },
     "metadata": {
      "needs_background": "light"
     },
     "output_type": "display_data"
    }
   ],
   "source": [
    "# Build scatter plot\n",
    "plt.scatter(weather_data[\"Latitude\"], weather_data[\"Cloudiness (%)\"], marker=\"o\")\n",
    "\n",
    "# Add graph properties\n",
    "plt.title(f'City Latitude vs. Cloudiness {time.strftime(\"%d/%m/%Y\")}')\n",
    "plt.ylabel(\"Cloudiness (%)\")\n",
    "plt.xlabel(\"Latitude\")\n",
    "plt.grid(True)\n",
    "\n",
    "# Save the figure\n",
    "plt.savefig(\"output_data/city_latitude_vs_cloudiness.png\")\n",
    "\n",
    "# Show plot\n",
    "plt.show()"
   ]
  },
  {
   "cell_type": "markdown",
   "metadata": {},
   "source": [
    "- This plot shows the relationship between a city's latitude and its cloudiness percentage  \n",
    "- Based on a visual analysis of the plot, there seems to be no correlation between latitute and cloudiness percentage"
   ]
  },
  {
   "cell_type": "markdown",
   "metadata": {},
   "source": [
    "## Latitude vs. Wind Speed Plot"
   ]
  },
  {
   "cell_type": "code",
   "execution_count": 22,
   "metadata": {},
   "outputs": [
    {
     "data": {
      "image/png": "[encoded data removed]",
      "text/plain": [
       "<Figure size 432x288 with 1 Axes>"
      ]
     },
     "metadata": {
      "needs_background": "light"
     },
     "output_type": "display_data"
    }
   ],
   "source": [
    "# Build scatter plot\n",
    "plt.scatter(weather_data[\"Latitude\"], weather_data[\"Wind Speed (m/s)\"], marker=\"o\")\n",
    "\n",
    "# Incorporate the other graph properties\n",
    "plt.title(f'City Latitude vs. Wind Speed {time.strftime(\"%d/%m/%Y\")}')\n",
    "plt.ylabel(\"Wind Speed (m/s)\")\n",
    "plt.xlabel(\"Latitude\")\n",
    "plt.grid(True)\n",
    "\n",
    "# Save the figure\n",
    "plt.savefig(\"output_data/city_latitude_vs_wind_speed.png\")\n",
    "\n",
    "# Show plot\n",
    "plt.show()"
   ]
  },
  {
   "cell_type": "markdown",
   "metadata": {},
   "source": [
    "- This plot shows the relationship between a city's latitude and its wind speed (m/s)  \n",
    "- Based on a visual analysis of the plot, there seems to be no correlation between latitute and wind speed"
   ]
  },
  {
   "cell_type": "markdown",
   "metadata": {},
   "source": [
    "## Linear Regression"
   ]
  },
  {
   "cell_type": "markdown",
   "metadata": {},
   "source": [
    "####  Northern Hemisphere - Max Temp vs. Latitude Linear Regression"
   ]
  },
  {
   "cell_type": "code",
   "execution_count": 12,
   "metadata": {},
   "outputs": [
    {
     "name": "stdout",
     "output_type": "stream",
     "text": [
      "The r-value is: -0.8539129867465602\n"
     ]
    },
    {
     "data": {
      "image/png": "[encoded data removed]",
      "text/plain": [
       "<Figure size 432x288 with 1 Axes>"
      ]
     },
     "metadata": {
      "needs_background": "light"
     },
     "output_type": "display_data"
    }
   ],
   "source": [
    " # Add the linear regression equation and line to plot\n",
    "x_values = weather_data[\"Latitude\"].loc[weather_data[\"Latitude\"] >= 0]\n",
    "y_values = weather_data[\"Max Temperature (°C)\"].loc[weather_data[\"Latitude\"] >= 0]\n",
    "(slope, intercept, rvalue, pvalue, stderr) = linregress(x_values, y_values)\n",
    "print(f'The r-value is: {rvalue}')\n",
    "regress_values = x_values * slope + intercept\n",
    "line_eq = \"y = \" + str(round(slope,2)) + \"x + \" + str(round(intercept,2))\n",
    "plt.scatter(x_values,y_values)\n",
    "plt.plot(x_values,regress_values,\"r-\")\n",
    "plt.annotate(line_eq,(1,1),fontsize=15,color=\"red\")\n",
    "plt.xlabel(\"Latitude\")\n",
    "plt.ylabel(\"Max Temperature (°C)\")\n",
    "plt.show()"
   ]
  },
  {
   "cell_type": "markdown",
   "metadata": {},
   "source": [
    "- The r-value being negative and close to -1 indicates that there is a strong negative relationship between latitude and max temperature for cities in the Northern Hemisphere\n",
    "- As the latitude of the city increases, the maximum temperature decreases\n",
    "- The further a city is from the equator (latitude = 0), the smaller the maximum temperature will be"
   ]
  },
  {
   "cell_type": "markdown",
   "metadata": {},
   "source": [
    "####  Southern Hemisphere - Max Temp vs. Latitude Linear Regression"
   ]
  },
  {
   "cell_type": "code",
   "execution_count": 13,
   "metadata": {},
   "outputs": [
    {
     "name": "stdout",
     "output_type": "stream",
     "text": [
      "The r-value is: 0.6892145632440172\n"
     ]
    },
    {
     "data": {
      "image/png": "[encoded data removed]",
      "text/plain": [
       "<Figure size 432x288 with 1 Axes>"
      ]
     },
     "metadata": {
      "needs_background": "light"
     },
     "output_type": "display_data"
    }
   ],
   "source": [
    " # Add the linear regression equation and line to plot\n",
    "x_values = weather_data[\"Latitude\"].loc[weather_data[\"Latitude\"] < 0]\n",
    "y_values = weather_data[\"Max Temperature (°C)\"].loc[weather_data[\"Latitude\"] < 0]\n",
    "(slope, intercept, rvalue, pvalue, stderr) = linregress(x_values, y_values)\n",
    "print(f'The r-value is: {rvalue}')\n",
    "regress_values = x_values * slope + intercept\n",
    "line_eq = \"y = \" + str(round(slope,2)) + \"x + \" + str(round(intercept,2))\n",
    "plt.scatter(x_values,y_values)\n",
    "plt.plot(x_values,regress_values,\"r-\")\n",
    "plt.annotate(line_eq,(-55,33),fontsize=15,color=\"red\")\n",
    "plt.xlabel(\"Latitude\")\n",
    "plt.ylabel(\"Max Temperature (°C)\")\n",
    "plt.show()"
   ]
  },
  {
   "cell_type": "markdown",
   "metadata": {},
   "source": [
    "- The r-value being positive and above 0.5 indicates that there is a positive relationship between latitude and maximum temperature for cities in the Southern Hemisphere\n",
    "- As the latitude decreases, the max temperature will increase\n",
    "- The further a city is from the equator (latitude = 0), the smaller the maximum temperature will be"
   ]
  },
  {
   "cell_type": "markdown",
   "metadata": {},
   "source": [
    "####  Northern Hemisphere - Humidity (%) vs. Latitude Linear Regression"
   ]
  },
  {
   "cell_type": "code",
   "execution_count": 14,
   "metadata": {},
   "outputs": [
    {
     "name": "stdout",
     "output_type": "stream",
     "text": [
      "The r-value is: 0.21504191442502746\n"
     ]
    },
    {
     "data": {
      "image/png": "[encoded data removed]",
      "text/plain": [
       "<Figure size 432x288 with 1 Axes>"
      ]
     },
     "metadata": {
      "needs_background": "light"
     },
     "output_type": "display_data"
    }
   ],
   "source": [
    " # Add the linear regression equation and line to plot\n",
    "x_values = weather_data[\"Latitude\"].loc[weather_data[\"Latitude\"] >= 0]\n",
    "y_values = weather_data[\"Humidity (%)\"].loc[weather_data[\"Latitude\"] >= 0]\n",
    "(slope, intercept, rvalue, pvalue, stderr) = linregress(x_values, y_values)\n",
    "print(f'The r-value is: {rvalue}')\n",
    "regress_values = x_values * slope + intercept\n",
    "line_eq = \"y = \" + str(round(slope,2)) + \"x + \" + str(round(intercept,2))\n",
    "plt.scatter(x_values,y_values)\n",
    "plt.plot(x_values,regress_values,\"r-\")\n",
    "plt.annotate(line_eq,(45,1),fontsize=15,color=\"red\")\n",
    "plt.xlabel(\"Latitude\")\n",
    "plt.ylabel(\"Humidity (%)\")\n",
    "plt.show()"
   ]
  },
  {
   "cell_type": "markdown",
   "metadata": {},
   "source": [
    "- The low r-value indicates that there is no relationship between latitude and humidity percentage for cities in the Northern Hemisphere"
   ]
  },
  {
   "cell_type": "markdown",
   "metadata": {},
   "source": [
    "####  Southern Hemisphere - Humidity (%) vs. Latitude Linear Regression"
   ]
  },
  {
   "cell_type": "code",
   "execution_count": 15,
   "metadata": {},
   "outputs": [
    {
     "name": "stdout",
     "output_type": "stream",
     "text": [
      "The r-value is: 0.1377559123382418\n"
     ]
    },
    {
     "data": {
      "image/png": "[encoded data removed]",
      "text/plain": [
       "<Figure size 432x288 with 1 Axes>"
      ]
     },
     "metadata": {
      "needs_background": "light"
     },
     "output_type": "display_data"
    }
   ],
   "source": [
    " # Add the linear regression equation and line to plot\n",
    "x_values = weather_data[\"Latitude\"].loc[weather_data[\"Latitude\"] < 0]\n",
    "y_values = weather_data[\"Humidity (%)\"].loc[weather_data[\"Latitude\"] < 0]\n",
    "(slope, intercept, rvalue, pvalue, stderr) = linregress(x_values, y_values)\n",
    "print(f'The r-value is: {rvalue}')\n",
    "regress_values = x_values * slope + intercept\n",
    "line_eq = \"y = \" + str(round(slope,2)) + \"x + \" + str(round(intercept,2))\n",
    "plt.scatter(x_values,y_values)\n",
    "plt.plot(x_values,regress_values,\"r-\")\n",
    "plt.annotate(line_eq,(-55,14),fontsize=15,color=\"red\")\n",
    "plt.xlabel(\"Latitude\")\n",
    "plt.ylabel(\"Humidity (%)\")\n",
    "plt.show()"
   ]
  },
  {
   "cell_type": "markdown",
   "metadata": {},
   "source": [
    "- The low r-value indicates that there is no relationship between latitude and humidity percentage for cities in the Southern Hemisphere"
   ]
  },
  {
   "cell_type": "markdown",
   "metadata": {},
   "source": [
    "####  Northern Hemisphere - Cloudiness (%) vs. Latitude Linear Regression"
   ]
  },
  {
   "cell_type": "code",
   "execution_count": 16,
   "metadata": {},
   "outputs": [
    {
     "name": "stdout",
     "output_type": "stream",
     "text": [
      "The r-value is: 0.17038339881833836\n"
     ]
    },
    {
     "data": {
      "image/png": "[encoded data removed]",
      "text/plain": [
       "<Figure size 432x288 with 1 Axes>"
      ]
     },
     "metadata": {
      "needs_background": "light"
     },
     "output_type": "display_data"
    }
   ],
   "source": [
    " # Add the linear regression equation and line to plot\n",
    "x_values = weather_data[\"Latitude\"].loc[weather_data[\"Latitude\"] >= 0]\n",
    "y_values = weather_data[\"Cloudiness (%)\"].loc[weather_data[\"Latitude\"] >= 0]\n",
    "(slope, intercept, rvalue, pvalue, stderr) = linregress(x_values, y_values)\n",
    "print(f'The r-value is: {rvalue}')\n",
    "regress_values = x_values * slope + intercept\n",
    "line_eq = \"y = \" + str(round(slope,2)) + \"x + \" + str(round(intercept,2))\n",
    "plt.scatter(x_values,y_values)\n",
    "plt.plot(x_values,regress_values,\"r-\")\n",
    "plt.annotate(line_eq,(1,1),fontsize=15,color=\"red\")\n",
    "plt.xlabel(\"Latitude\")\n",
    "plt.ylabel(\"Cloudiness (%)\")\n",
    "plt.show()"
   ]
  },
  {
   "cell_type": "markdown",
   "metadata": {},
   "source": [
    "- The low r-value indicates that there is no relationship between latitude and cloudiness percentage for cities in the Northern Hemisphere"
   ]
  },
  {
   "cell_type": "markdown",
   "metadata": {},
   "source": [
    "####  Southern Hemisphere - Cloudiness (%) vs. Latitude Linear Regression"
   ]
  },
  {
   "cell_type": "code",
   "execution_count": 17,
   "metadata": {},
   "outputs": [
    {
     "name": "stdout",
     "output_type": "stream",
     "text": [
      "The r-value is: 0.2151861783641627\n"
     ]
    },
    {
     "data": {
      "image/png": "[encoded data removed]",
      "text/plain": [
       "<Figure size 432x288 with 1 Axes>"
      ]
     },
     "metadata": {
      "needs_background": "light"
     },
     "output_type": "display_data"
    }
   ],
   "source": [
    " # Add the linear regression equation and line to plot\n",
    "x_values = weather_data[\"Latitude\"].loc[weather_data[\"Latitude\"] < 0]\n",
    "y_values = weather_data[\"Cloudiness (%)\"].loc[weather_data[\"Latitude\"] < 0]\n",
    "(slope, intercept, rvalue, pvalue, stderr) = linregress(x_values, y_values)\n",
    "print(f'The r-value is: {rvalue}')\n",
    "regress_values = x_values * slope + intercept\n",
    "line_eq = \"y = \" + str(round(slope,2)) + \"x + \" + str(round(intercept,2))\n",
    "plt.scatter(x_values,y_values)\n",
    "plt.plot(x_values,regress_values,\"r-\")\n",
    "plt.annotate(line_eq,(-55,10),fontsize=15,color=\"red\")\n",
    "plt.xlabel(\"Latitude\")\n",
    "plt.ylabel(\"Cloudiness (%)\")\n",
    "plt.show()"
   ]
  },
  {
   "cell_type": "markdown",
   "metadata": {},
   "source": [
    "- The low r-value indicates that there is no relationship between latitude and cloudiness percentage for cities in the Southern Hemisphere"
   ]
  },
  {
   "cell_type": "markdown",
   "metadata": {},
   "source": [
    "####  Northern Hemisphere - Wind Speed (m/s) vs. Latitude Linear Regression"
   ]
  },
  {
   "cell_type": "code",
   "execution_count": 23,
   "metadata": {},
   "outputs": [
    {
     "name": "stdout",
     "output_type": "stream",
     "text": [
      "The r-value is: 0.11020065990870843\n"
     ]
    },
    {
     "data": {
      "image/png": "[encoded data removed]",
      "text/plain": [
       "<Figure size 432x288 with 1 Axes>"
      ]
     },
     "metadata": {
      "needs_background": "light"
     },
     "output_type": "display_data"
    }
   ],
   "source": [
    " # Add the linear regression equation and line to plot\n",
    "x_values = weather_data[\"Latitude\"].loc[weather_data[\"Latitude\"] >= 0]\n",
    "y_values = weather_data[\"Wind Speed (m/s)\"].loc[weather_data[\"Latitude\"] >= 0]\n",
    "(slope, intercept, rvalue, pvalue, stderr) = linregress(x_values, y_values)\n",
    "print(f'The r-value is: {rvalue}')\n",
    "regress_values = x_values * slope + intercept\n",
    "line_eq = \"y = \" + str(round(slope,2)) + \"x + \" + str(round(intercept,2))\n",
    "plt.scatter(x_values,y_values)\n",
    "plt.plot(x_values,regress_values,\"r-\")\n",
    "plt.annotate(line_eq,(0,11),fontsize=15,color=\"red\")\n",
    "plt.xlabel(\"Latitude\")\n",
    "plt.ylabel(\"Wind Speed (m/s)\")\n",
    "plt.show()"
   ]
  },
  {
   "cell_type": "markdown",
   "metadata": {},
   "source": [
    "- The low r-value indicates that there is no relationship between latitude and wind speed for cities in the Northern Hemisphere"
   ]
  },
  {
   "cell_type": "markdown",
   "metadata": {},
   "source": [
    "####  Southern Hemisphere - Wind Speed (m/s) vs. Latitude Linear Regression"
   ]
  },
  {
   "cell_type": "code",
   "execution_count": 24,
   "metadata": {},
   "outputs": [
    {
     "name": "stdout",
     "output_type": "stream",
     "text": [
      "The r-value is: -0.1403048184526944\n"
     ]
    },
    {
     "data": {
      "image/png": "[encoded data removed]",
      "text/plain": [
       "<Figure size 432x288 with 1 Axes>"
      ]
     },
     "metadata": {
      "needs_background": "light"
     },
     "output_type": "display_data"
    }
   ],
   "source": [
    " # Add the linear regression equation and line to plot\n",
    "x_values = weather_data[\"Latitude\"].loc[weather_data[\"Latitude\"] < 0]\n",
    "y_values = weather_data[\"Wind Speed (m/s)\"].loc[weather_data[\"Latitude\"] < 0]\n",
    "(slope, intercept, rvalue, pvalue, stderr) = linregress(x_values, y_values)\n",
    "print(f'The r-value is: {rvalue}')\n",
    "regress_values = x_values * slope + intercept\n",
    "line_eq = \"y = \" + str(round(slope,2)) + \"x + \" + str(round(intercept,2))\n",
    "plt.scatter(x_values,y_values)\n",
    "plt.plot(x_values,regress_values,\"r-\")\n",
    "plt.annotate(line_eq,(-55,11),fontsize=15,color=\"red\")\n",
    "plt.xlabel(\"Latitude\")\n",
    "plt.ylabel(\"Wind Speed (m/s)\")\n",
    "plt.show()"
   ]
  },
  {
   "cell_type": "markdown",
   "metadata": {},
   "source": [
    "- The low r-value indicates that there is no relationship between latitude and wind speed for cities in the Southern Hemisphere"
   ]
  }
 ],
 "metadata": {
  "anaconda-cloud": {},
  "kernel_info": {
   "name": "python3"
  },
  "kernelspec": {
   "display_name": "Python 3",
   "language": "python",
   "name": "python3"
  },
  "language_info": {
   "codemirror_mode": {
    "name": "ipython",
    "version": 3
   },
   "file_extension": ".py",
   "mimetype": "text/x-python",
   "name": "python",
   "nbconvert_exporter": "python",
   "pygments_lexer": "ipython3",
   "version": "3.8.5"
  },
  "latex_envs": {
   "LaTeX_envs_menu_present": true,
   "autoclose": false,
   "autocomplete": true,
   "bibliofile": "biblio.bib",
   "cite_by": "apalike",
   "current_citInitial": 1,
   "eqLabelWithNumbers": true,
   "eqNumInitial": 1,
   "hotkeys": {
    "equation": "Ctrl-E",
    "itemize": "Ctrl-I"
   },
   "labels_anchors": false,
   "latex_user_defs": false,
   "report_style_numbering": false,
   "user_envs_cfg": false
  },
  "nteract": {
   "version": "0.12.3"
  }
 },
 "nbformat": 4,
 "nbformat_minor": 2
}
